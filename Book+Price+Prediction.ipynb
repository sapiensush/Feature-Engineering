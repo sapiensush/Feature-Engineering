{
 "cells": [
  {
   "cell_type": "code",
   "execution_count": 87,
   "metadata": {},
   "outputs": [
    {
     "data": {
      "text/plain": [
       "7797"
      ]
     },
     "execution_count": 87,
     "metadata": {},
     "output_type": "execute_result"
    }
   ],
   "source": [
    "import pandas as pd\n",
    "\n",
    "train = pd.read_excel(r\"F:\\Machine_learning\\Machine Hack\\Participants_Data\\Data_Train.xlsx\")\n",
    "test = pd.read_excel(r\"F:\\Machine_learning\\Machine Hack\\Participants_Data\\Data_Test.xlsx\")\n",
    "len(train)+len(test)"
   ]
  },
  {
   "cell_type": "code",
   "execution_count": 88,
   "metadata": {
    "collapsed": true
   },
   "outputs": [],
   "source": [
    "train_1 = train.drop('Price',axis=1)"
   ]
  },
  {
   "cell_type": "code",
   "execution_count": 89,
   "metadata": {
    "collapsed": true
   },
   "outputs": [],
   "source": [
    "train_1 = train_1.append(test)\n"
   ]
  },
  {
   "cell_type": "code",
   "execution_count": 90,
   "metadata": {},
   "outputs": [
    {
     "data": {
      "text/plain": [
       "7797"
      ]
     },
     "execution_count": 90,
     "metadata": {},
     "output_type": "execute_result"
    }
   ],
   "source": [
    "len(train_1)"
   ]
  },
  {
   "cell_type": "code",
   "execution_count": 91,
   "metadata": {},
   "outputs": [
    {
     "data": {
      "text/html": [
       "<div>\n",
       "<style>\n",
       "    .dataframe thead tr:only-child th {\n",
       "        text-align: right;\n",
       "    }\n",
       "\n",
       "    .dataframe thead th {\n",
       "        text-align: left;\n",
       "    }\n",
       "\n",
       "    .dataframe tbody tr th {\n",
       "        vertical-align: top;\n",
       "    }\n",
       "</style>\n",
       "<table border=\"1\" class=\"dataframe\">\n",
       "  <thead>\n",
       "    <tr style=\"text-align: right;\">\n",
       "      <th></th>\n",
       "      <th>Title</th>\n",
       "      <th>Author</th>\n",
       "      <th>Edition</th>\n",
       "      <th>Reviews</th>\n",
       "      <th>Ratings</th>\n",
       "      <th>Synopsis</th>\n",
       "      <th>Genre</th>\n",
       "      <th>BookCategory</th>\n",
       "    </tr>\n",
       "  </thead>\n",
       "  <tbody>\n",
       "    <tr>\n",
       "      <th>count</th>\n",
       "      <td>7797</td>\n",
       "      <td>7797</td>\n",
       "      <td>7797</td>\n",
       "      <td>7797</td>\n",
       "      <td>7797</td>\n",
       "      <td>7797</td>\n",
       "      <td>7797</td>\n",
       "      <td>7797</td>\n",
       "    </tr>\n",
       "    <tr>\n",
       "      <th>unique</th>\n",
       "      <td>6787</td>\n",
       "      <td>4372</td>\n",
       "      <td>3882</td>\n",
       "      <td>36</td>\n",
       "      <td>368</td>\n",
       "      <td>6771</td>\n",
       "      <td>363</td>\n",
       "      <td>11</td>\n",
       "    </tr>\n",
       "  </tbody>\n",
       "</table>\n",
       "</div>"
      ],
      "text/plain": [
       "       Title Author Edition Reviews Ratings Synopsis Genre BookCategory\n",
       "count   7797   7797    7797    7797    7797     7797  7797         7797\n",
       "unique  6787   4372    3882      36     368     6771   363           11"
      ]
     },
     "execution_count": 91,
     "metadata": {},
     "output_type": "execute_result"
    }
   ],
   "source": [
    "train_1.describe(include='all').head(2)"
   ]
  },
  {
   "cell_type": "code",
   "execution_count": 92,
   "metadata": {},
   "outputs": [
    {
     "data": {
      "text/plain": [
       "Index(['Title', 'Author', 'Edition', 'Reviews', 'Ratings', 'Synopsis', 'Genre',\n",
       "       'BookCategory'],\n",
       "      dtype='object')"
      ]
     },
     "execution_count": 92,
     "metadata": {},
     "output_type": "execute_result"
    }
   ],
   "source": [
    "train_1.columns"
   ]
  },
  {
   "cell_type": "code",
   "execution_count": 93,
   "metadata": {
    "collapsed": true
   },
   "outputs": [],
   "source": [
    "train_1 = train_1[['Title', 'Author', 'Edition', 'Reviews', 'Ratings' , 'Genre',\n",
    "       'BookCategory']]"
   ]
  },
  {
   "cell_type": "code",
   "execution_count": 94,
   "metadata": {},
   "outputs": [
    {
     "data": {
      "text/html": [
       "<div>\n",
       "<style>\n",
       "    .dataframe thead tr:only-child th {\n",
       "        text-align: right;\n",
       "    }\n",
       "\n",
       "    .dataframe thead th {\n",
       "        text-align: left;\n",
       "    }\n",
       "\n",
       "    .dataframe tbody tr th {\n",
       "        vertical-align: top;\n",
       "    }\n",
       "</style>\n",
       "<table border=\"1\" class=\"dataframe\">\n",
       "  <thead>\n",
       "    <tr style=\"text-align: right;\">\n",
       "      <th></th>\n",
       "      <th>Title</th>\n",
       "      <th>Author</th>\n",
       "      <th>Edition</th>\n",
       "      <th>Reviews</th>\n",
       "      <th>Ratings</th>\n",
       "      <th>Genre</th>\n",
       "      <th>BookCategory</th>\n",
       "    </tr>\n",
       "  </thead>\n",
       "  <tbody>\n",
       "    <tr>\n",
       "      <th>0</th>\n",
       "      <td>The Prisoner's Gold (The Hunters 3)</td>\n",
       "      <td>Chris Kuzneski</td>\n",
       "      <td>Paperback,– 10 Mar 2016</td>\n",
       "      <td>4.0 out of 5 stars</td>\n",
       "      <td>8 customer reviews</td>\n",
       "      <td>Action &amp; Adventure (Books)</td>\n",
       "      <td>Action &amp; Adventure</td>\n",
       "    </tr>\n",
       "    <tr>\n",
       "      <th>1</th>\n",
       "      <td>Guru Dutt: A Tragedy in Three Acts</td>\n",
       "      <td>Arun Khopkar</td>\n",
       "      <td>Paperback,– 7 Nov 2012</td>\n",
       "      <td>3.9 out of 5 stars</td>\n",
       "      <td>14 customer reviews</td>\n",
       "      <td>Cinema &amp; Broadcast (Books)</td>\n",
       "      <td>Biographies, Diaries &amp; True Accounts</td>\n",
       "    </tr>\n",
       "    <tr>\n",
       "      <th>2</th>\n",
       "      <td>Leviathan (Penguin Classics)</td>\n",
       "      <td>Thomas Hobbes</td>\n",
       "      <td>Paperback,– 25 Feb 1982</td>\n",
       "      <td>4.8 out of 5 stars</td>\n",
       "      <td>6 customer reviews</td>\n",
       "      <td>International Relations</td>\n",
       "      <td>Humour</td>\n",
       "    </tr>\n",
       "    <tr>\n",
       "      <th>3</th>\n",
       "      <td>A Pocket Full of Rye (Miss Marple)</td>\n",
       "      <td>Agatha Christie</td>\n",
       "      <td>Paperback,– 5 Oct 2017</td>\n",
       "      <td>4.1 out of 5 stars</td>\n",
       "      <td>13 customer reviews</td>\n",
       "      <td>Contemporary Fiction (Books)</td>\n",
       "      <td>Crime, Thriller &amp; Mystery</td>\n",
       "    </tr>\n",
       "    <tr>\n",
       "      <th>4</th>\n",
       "      <td>LIFE 70 Years of Extraordinary Photography</td>\n",
       "      <td>Editors of Life</td>\n",
       "      <td>Hardcover,– 10 Oct 2006</td>\n",
       "      <td>5.0 out of 5 stars</td>\n",
       "      <td>1 customer review</td>\n",
       "      <td>Photography Textbooks</td>\n",
       "      <td>Arts, Film &amp; Photography</td>\n",
       "    </tr>\n",
       "  </tbody>\n",
       "</table>\n",
       "</div>"
      ],
      "text/plain": [
       "                                        Title           Author  \\\n",
       "0         The Prisoner's Gold (The Hunters 3)   Chris Kuzneski   \n",
       "1          Guru Dutt: A Tragedy in Three Acts     Arun Khopkar   \n",
       "2                Leviathan (Penguin Classics)    Thomas Hobbes   \n",
       "3          A Pocket Full of Rye (Miss Marple)  Agatha Christie   \n",
       "4  LIFE 70 Years of Extraordinary Photography  Editors of Life   \n",
       "\n",
       "                   Edition             Reviews              Ratings  \\\n",
       "0  Paperback,– 10 Mar 2016  4.0 out of 5 stars   8 customer reviews   \n",
       "1   Paperback,– 7 Nov 2012  3.9 out of 5 stars  14 customer reviews   \n",
       "2  Paperback,– 25 Feb 1982  4.8 out of 5 stars   6 customer reviews   \n",
       "3   Paperback,– 5 Oct 2017  4.1 out of 5 stars  13 customer reviews   \n",
       "4  Hardcover,– 10 Oct 2006  5.0 out of 5 stars    1 customer review   \n",
       "\n",
       "                          Genre                          BookCategory  \n",
       "0    Action & Adventure (Books)                    Action & Adventure  \n",
       "1    Cinema & Broadcast (Books)  Biographies, Diaries & True Accounts  \n",
       "2       International Relations                                Humour  \n",
       "3  Contemporary Fiction (Books)             Crime, Thriller & Mystery  \n",
       "4         Photography Textbooks              Arts, Film & Photography  "
      ]
     },
     "execution_count": 94,
     "metadata": {},
     "output_type": "execute_result"
    }
   ],
   "source": [
    "train_1.head()\n",
    "# test.head()"
   ]
  },
  {
   "cell_type": "code",
   "execution_count": 95,
   "metadata": {},
   "outputs": [
    {
     "data": {
      "text/plain": [
       "Title           0\n",
       "Author          0\n",
       "Edition         0\n",
       "Reviews         0\n",
       "Ratings         0\n",
       "Genre           0\n",
       "BookCategory    0\n",
       "dtype: int64"
      ]
     },
     "execution_count": 95,
     "metadata": {},
     "output_type": "execute_result"
    }
   ],
   "source": [
    "train_1.isnull().sum()"
   ]
  },
  {
   "cell_type": "markdown",
   "metadata": {},
   "source": [
    "### Way to convert Single Feature into Multiple Features by splitting the Column\n",
    "\n",
    "Following Edition Column is converted into three different Features. Cover Month and Year.\n",
    "\n",
    "So We use  ``` train_1['Edition'].str.split(',–').str[0] ``` \n",
    "to get the 'Cover'"
   ]
  },
  {
   "cell_type": "code",
   "execution_count": 96,
   "metadata": {},
   "outputs": [
    {
     "data": {
      "text/plain": [
       "0    Paperback,– 10 Mar 2016\n",
       "1     Paperback,– 7 Nov 2012\n",
       "2    Paperback,– 25 Feb 1982\n",
       "3     Paperback,– 5 Oct 2017\n",
       "4    Hardcover,– 10 Oct 2006\n",
       "Name: Edition, dtype: object"
      ]
     },
     "execution_count": 96,
     "metadata": {},
     "output_type": "execute_result"
    }
   ],
   "source": [
    "train_1['Edition'].head()"
   ]
  },
  {
   "cell_type": "code",
   "execution_count": 97,
   "metadata": {
    "collapsed": true
   },
   "outputs": [],
   "source": [
    "train_1['Cover'] = train_1['Edition'].str.split(',–').str[0]\n",
    "train_1['Month'] = train_1['Edition'].str.split(',–').str[1].str.split(' ').str[2]\n",
    "train_1['Year'] = train_1['Edition'].str.split(',–').str[1].str.split(' ').str[3]"
   ]
  },
  {
   "cell_type": "code",
   "execution_count": 98,
   "metadata": {},
   "outputs": [
    {
     "data": {
      "text/html": [
       "<div>\n",
       "<style>\n",
       "    .dataframe thead tr:only-child th {\n",
       "        text-align: right;\n",
       "    }\n",
       "\n",
       "    .dataframe thead th {\n",
       "        text-align: left;\n",
       "    }\n",
       "\n",
       "    .dataframe tbody tr th {\n",
       "        vertical-align: top;\n",
       "    }\n",
       "</style>\n",
       "<table border=\"1\" class=\"dataframe\">\n",
       "  <thead>\n",
       "    <tr style=\"text-align: right;\">\n",
       "      <th></th>\n",
       "      <th>Title</th>\n",
       "      <th>Author</th>\n",
       "      <th>Edition</th>\n",
       "      <th>Reviews</th>\n",
       "      <th>Ratings</th>\n",
       "      <th>Genre</th>\n",
       "      <th>BookCategory</th>\n",
       "      <th>Cover</th>\n",
       "      <th>Month</th>\n",
       "      <th>Year</th>\n",
       "    </tr>\n",
       "  </thead>\n",
       "  <tbody>\n",
       "    <tr>\n",
       "      <th>0</th>\n",
       "      <td>The Prisoner's Gold (The Hunters 3)</td>\n",
       "      <td>Chris Kuzneski</td>\n",
       "      <td>Paperback,– 10 Mar 2016</td>\n",
       "      <td>4.0 out of 5 stars</td>\n",
       "      <td>8 customer reviews</td>\n",
       "      <td>Action &amp; Adventure (Books)</td>\n",
       "      <td>Action &amp; Adventure</td>\n",
       "      <td>Paperback</td>\n",
       "      <td>Mar</td>\n",
       "      <td>2016</td>\n",
       "    </tr>\n",
       "    <tr>\n",
       "      <th>1</th>\n",
       "      <td>Guru Dutt: A Tragedy in Three Acts</td>\n",
       "      <td>Arun Khopkar</td>\n",
       "      <td>Paperback,– 7 Nov 2012</td>\n",
       "      <td>3.9 out of 5 stars</td>\n",
       "      <td>14 customer reviews</td>\n",
       "      <td>Cinema &amp; Broadcast (Books)</td>\n",
       "      <td>Biographies, Diaries &amp; True Accounts</td>\n",
       "      <td>Paperback</td>\n",
       "      <td>Nov</td>\n",
       "      <td>2012</td>\n",
       "    </tr>\n",
       "    <tr>\n",
       "      <th>2</th>\n",
       "      <td>Leviathan (Penguin Classics)</td>\n",
       "      <td>Thomas Hobbes</td>\n",
       "      <td>Paperback,– 25 Feb 1982</td>\n",
       "      <td>4.8 out of 5 stars</td>\n",
       "      <td>6 customer reviews</td>\n",
       "      <td>International Relations</td>\n",
       "      <td>Humour</td>\n",
       "      <td>Paperback</td>\n",
       "      <td>Feb</td>\n",
       "      <td>1982</td>\n",
       "    </tr>\n",
       "    <tr>\n",
       "      <th>3</th>\n",
       "      <td>A Pocket Full of Rye (Miss Marple)</td>\n",
       "      <td>Agatha Christie</td>\n",
       "      <td>Paperback,– 5 Oct 2017</td>\n",
       "      <td>4.1 out of 5 stars</td>\n",
       "      <td>13 customer reviews</td>\n",
       "      <td>Contemporary Fiction (Books)</td>\n",
       "      <td>Crime, Thriller &amp; Mystery</td>\n",
       "      <td>Paperback</td>\n",
       "      <td>Oct</td>\n",
       "      <td>2017</td>\n",
       "    </tr>\n",
       "    <tr>\n",
       "      <th>4</th>\n",
       "      <td>LIFE 70 Years of Extraordinary Photography</td>\n",
       "      <td>Editors of Life</td>\n",
       "      <td>Hardcover,– 10 Oct 2006</td>\n",
       "      <td>5.0 out of 5 stars</td>\n",
       "      <td>1 customer review</td>\n",
       "      <td>Photography Textbooks</td>\n",
       "      <td>Arts, Film &amp; Photography</td>\n",
       "      <td>Hardcover</td>\n",
       "      <td>Oct</td>\n",
       "      <td>2006</td>\n",
       "    </tr>\n",
       "  </tbody>\n",
       "</table>\n",
       "</div>"
      ],
      "text/plain": [
       "                                        Title           Author  \\\n",
       "0         The Prisoner's Gold (The Hunters 3)   Chris Kuzneski   \n",
       "1          Guru Dutt: A Tragedy in Three Acts     Arun Khopkar   \n",
       "2                Leviathan (Penguin Classics)    Thomas Hobbes   \n",
       "3          A Pocket Full of Rye (Miss Marple)  Agatha Christie   \n",
       "4  LIFE 70 Years of Extraordinary Photography  Editors of Life   \n",
       "\n",
       "                   Edition             Reviews              Ratings  \\\n",
       "0  Paperback,– 10 Mar 2016  4.0 out of 5 stars   8 customer reviews   \n",
       "1   Paperback,– 7 Nov 2012  3.9 out of 5 stars  14 customer reviews   \n",
       "2  Paperback,– 25 Feb 1982  4.8 out of 5 stars   6 customer reviews   \n",
       "3   Paperback,– 5 Oct 2017  4.1 out of 5 stars  13 customer reviews   \n",
       "4  Hardcover,– 10 Oct 2006  5.0 out of 5 stars    1 customer review   \n",
       "\n",
       "                          Genre                          BookCategory  \\\n",
       "0    Action & Adventure (Books)                    Action & Adventure   \n",
       "1    Cinema & Broadcast (Books)  Biographies, Diaries & True Accounts   \n",
       "2       International Relations                                Humour   \n",
       "3  Contemporary Fiction (Books)             Crime, Thriller & Mystery   \n",
       "4         Photography Textbooks              Arts, Film & Photography   \n",
       "\n",
       "       Cover Month  Year  \n",
       "0  Paperback   Mar  2016  \n",
       "1  Paperback   Nov  2012  \n",
       "2  Paperback   Feb  1982  \n",
       "3  Paperback   Oct  2017  \n",
       "4  Hardcover   Oct  2006  "
      ]
     },
     "execution_count": 98,
     "metadata": {},
     "output_type": "execute_result"
    }
   ],
   "source": [
    "train_1.head()"
   ]
  },
  {
   "cell_type": "code",
   "execution_count": 99,
   "metadata": {},
   "outputs": [
    {
     "name": "stdout",
     "output_type": "stream",
     "text": [
      "Max no of Authors : 7\n"
     ]
    }
   ],
   "source": [
    "train_1['Author'] = train_1['Author'].str.split(',')\n",
    "maxi = 0\n",
    "for i in train_1.Author:\n",
    "    if maxi < len(i):\n",
    "        maxi = len(i)\n",
    "        \n",
    "print('Max no of Authors :',maxi)"
   ]
  },
  {
   "cell_type": "code",
   "execution_count": 100,
   "metadata": {
    "collapsed": true
   },
   "outputs": [],
   "source": [
    "# train_1['Author_1'] = train_1['Author'].str.split(',').str[0]\n",
    "# train_1['Author_2'] = train_1['Author'].str.split(',').str[1]\n",
    "# train_1['Author_3'] = train_1['Author'].str.split(',').str[2]\n",
    "# train_1['Author_4'] = train_1['Author'].str.split(',').str[3]\n",
    "# train_1['Author_5'] = train_1['Author'].str.split(',').str[4]\n",
    "# train_1['Author_6'] = train_1['Author'].str.split(',').str[5]\n",
    "# train_1['Author_7'] = train_1['Author'].str.split(',').str[6]\n",
    "\n",
    "train_1['Author_1'] = train_1['Author'].str[0]\n",
    "train_1['Author_2'] = train_1['Author'].str[1]\n",
    "train_1['Author_3'] = train_1['Author'].str[2]\n",
    "train_1['Author_4'] = train_1['Author'].str[3]\n",
    "train_1['Author_5'] = train_1['Author'].str[4]\n",
    "train_1['Author_6'] = train_1['Author'].str[5]\n",
    "train_1['Author_7'] = train_1['Author'].str[6]\n",
    "\n",
    "train_1['Author_1'].fillna('None',inplace=True)\n",
    "train_1['Author_2'].fillna('None',inplace=True)\n",
    "train_1['Author_3'].fillna('None',inplace=True)\n",
    "train_1['Author_4'].fillna('None',inplace=True)\n",
    "train_1['Author_5'].fillna('None',inplace=True)\n",
    "train_1['Author_6'].fillna('None',inplace=True)\n",
    "train_1['Author_7'].fillna('None',inplace=True)\n"
   ]
  },
  {
   "cell_type": "code",
   "execution_count": 101,
   "metadata": {},
   "outputs": [
    {
     "data": {
      "text/html": [
       "<div>\n",
       "<style>\n",
       "    .dataframe thead tr:only-child th {\n",
       "        text-align: right;\n",
       "    }\n",
       "\n",
       "    .dataframe thead th {\n",
       "        text-align: left;\n",
       "    }\n",
       "\n",
       "    .dataframe tbody tr th {\n",
       "        vertical-align: top;\n",
       "    }\n",
       "</style>\n",
       "<table border=\"1\" class=\"dataframe\">\n",
       "  <thead>\n",
       "    <tr style=\"text-align: right;\">\n",
       "      <th></th>\n",
       "      <th>Title</th>\n",
       "      <th>Author</th>\n",
       "      <th>Edition</th>\n",
       "      <th>Reviews</th>\n",
       "      <th>Ratings</th>\n",
       "      <th>Genre</th>\n",
       "      <th>BookCategory</th>\n",
       "      <th>Cover</th>\n",
       "      <th>Month</th>\n",
       "      <th>Year</th>\n",
       "      <th>Author_1</th>\n",
       "      <th>Author_2</th>\n",
       "      <th>Author_3</th>\n",
       "      <th>Author_4</th>\n",
       "      <th>Author_5</th>\n",
       "      <th>Author_6</th>\n",
       "      <th>Author_7</th>\n",
       "    </tr>\n",
       "  </thead>\n",
       "  <tbody>\n",
       "    <tr>\n",
       "      <th>0</th>\n",
       "      <td>The Prisoner's Gold (The Hunters 3)</td>\n",
       "      <td>[Chris Kuzneski]</td>\n",
       "      <td>Paperback,– 10 Mar 2016</td>\n",
       "      <td>4.0 out of 5 stars</td>\n",
       "      <td>8 customer reviews</td>\n",
       "      <td>Action &amp; Adventure (Books)</td>\n",
       "      <td>Action &amp; Adventure</td>\n",
       "      <td>Paperback</td>\n",
       "      <td>Mar</td>\n",
       "      <td>2016</td>\n",
       "      <td>Chris Kuzneski</td>\n",
       "      <td>None</td>\n",
       "      <td>None</td>\n",
       "      <td>None</td>\n",
       "      <td>None</td>\n",
       "      <td>None</td>\n",
       "      <td>None</td>\n",
       "    </tr>\n",
       "    <tr>\n",
       "      <th>1</th>\n",
       "      <td>Guru Dutt: A Tragedy in Three Acts</td>\n",
       "      <td>[Arun Khopkar]</td>\n",
       "      <td>Paperback,– 7 Nov 2012</td>\n",
       "      <td>3.9 out of 5 stars</td>\n",
       "      <td>14 customer reviews</td>\n",
       "      <td>Cinema &amp; Broadcast (Books)</td>\n",
       "      <td>Biographies, Diaries &amp; True Accounts</td>\n",
       "      <td>Paperback</td>\n",
       "      <td>Nov</td>\n",
       "      <td>2012</td>\n",
       "      <td>Arun Khopkar</td>\n",
       "      <td>None</td>\n",
       "      <td>None</td>\n",
       "      <td>None</td>\n",
       "      <td>None</td>\n",
       "      <td>None</td>\n",
       "      <td>None</td>\n",
       "    </tr>\n",
       "    <tr>\n",
       "      <th>2</th>\n",
       "      <td>Leviathan (Penguin Classics)</td>\n",
       "      <td>[Thomas Hobbes]</td>\n",
       "      <td>Paperback,– 25 Feb 1982</td>\n",
       "      <td>4.8 out of 5 stars</td>\n",
       "      <td>6 customer reviews</td>\n",
       "      <td>International Relations</td>\n",
       "      <td>Humour</td>\n",
       "      <td>Paperback</td>\n",
       "      <td>Feb</td>\n",
       "      <td>1982</td>\n",
       "      <td>Thomas Hobbes</td>\n",
       "      <td>None</td>\n",
       "      <td>None</td>\n",
       "      <td>None</td>\n",
       "      <td>None</td>\n",
       "      <td>None</td>\n",
       "      <td>None</td>\n",
       "    </tr>\n",
       "    <tr>\n",
       "      <th>3</th>\n",
       "      <td>A Pocket Full of Rye (Miss Marple)</td>\n",
       "      <td>[Agatha Christie]</td>\n",
       "      <td>Paperback,– 5 Oct 2017</td>\n",
       "      <td>4.1 out of 5 stars</td>\n",
       "      <td>13 customer reviews</td>\n",
       "      <td>Contemporary Fiction (Books)</td>\n",
       "      <td>Crime, Thriller &amp; Mystery</td>\n",
       "      <td>Paperback</td>\n",
       "      <td>Oct</td>\n",
       "      <td>2017</td>\n",
       "      <td>Agatha Christie</td>\n",
       "      <td>None</td>\n",
       "      <td>None</td>\n",
       "      <td>None</td>\n",
       "      <td>None</td>\n",
       "      <td>None</td>\n",
       "      <td>None</td>\n",
       "    </tr>\n",
       "    <tr>\n",
       "      <th>4</th>\n",
       "      <td>LIFE 70 Years of Extraordinary Photography</td>\n",
       "      <td>[Editors of Life]</td>\n",
       "      <td>Hardcover,– 10 Oct 2006</td>\n",
       "      <td>5.0 out of 5 stars</td>\n",
       "      <td>1 customer review</td>\n",
       "      <td>Photography Textbooks</td>\n",
       "      <td>Arts, Film &amp; Photography</td>\n",
       "      <td>Hardcover</td>\n",
       "      <td>Oct</td>\n",
       "      <td>2006</td>\n",
       "      <td>Editors of Life</td>\n",
       "      <td>None</td>\n",
       "      <td>None</td>\n",
       "      <td>None</td>\n",
       "      <td>None</td>\n",
       "      <td>None</td>\n",
       "      <td>None</td>\n",
       "    </tr>\n",
       "  </tbody>\n",
       "</table>\n",
       "</div>"
      ],
      "text/plain": [
       "                                        Title             Author  \\\n",
       "0         The Prisoner's Gold (The Hunters 3)   [Chris Kuzneski]   \n",
       "1          Guru Dutt: A Tragedy in Three Acts     [Arun Khopkar]   \n",
       "2                Leviathan (Penguin Classics)    [Thomas Hobbes]   \n",
       "3          A Pocket Full of Rye (Miss Marple)  [Agatha Christie]   \n",
       "4  LIFE 70 Years of Extraordinary Photography  [Editors of Life]   \n",
       "\n",
       "                   Edition             Reviews              Ratings  \\\n",
       "0  Paperback,– 10 Mar 2016  4.0 out of 5 stars   8 customer reviews   \n",
       "1   Paperback,– 7 Nov 2012  3.9 out of 5 stars  14 customer reviews   \n",
       "2  Paperback,– 25 Feb 1982  4.8 out of 5 stars   6 customer reviews   \n",
       "3   Paperback,– 5 Oct 2017  4.1 out of 5 stars  13 customer reviews   \n",
       "4  Hardcover,– 10 Oct 2006  5.0 out of 5 stars    1 customer review   \n",
       "\n",
       "                          Genre                          BookCategory  \\\n",
       "0    Action & Adventure (Books)                    Action & Adventure   \n",
       "1    Cinema & Broadcast (Books)  Biographies, Diaries & True Accounts   \n",
       "2       International Relations                                Humour   \n",
       "3  Contemporary Fiction (Books)             Crime, Thriller & Mystery   \n",
       "4         Photography Textbooks              Arts, Film & Photography   \n",
       "\n",
       "       Cover Month  Year         Author_1 Author_2 Author_3 Author_4 Author_5  \\\n",
       "0  Paperback   Mar  2016   Chris Kuzneski     None     None     None     None   \n",
       "1  Paperback   Nov  2012     Arun Khopkar     None     None     None     None   \n",
       "2  Paperback   Feb  1982    Thomas Hobbes     None     None     None     None   \n",
       "3  Paperback   Oct  2017  Agatha Christie     None     None     None     None   \n",
       "4  Hardcover   Oct  2006  Editors of Life     None     None     None     None   \n",
       "\n",
       "  Author_6 Author_7  \n",
       "0     None     None  \n",
       "1     None     None  \n",
       "2     None     None  \n",
       "3     None     None  \n",
       "4     None     None  "
      ]
     },
     "execution_count": 101,
     "metadata": {},
     "output_type": "execute_result"
    }
   ],
   "source": [
    "train_1.head()"
   ]
  },
  {
   "cell_type": "code",
   "execution_count": 102,
   "metadata": {},
   "outputs": [
    {
     "data": {
      "text/html": [
       "<div>\n",
       "<style>\n",
       "    .dataframe thead tr:only-child th {\n",
       "        text-align: right;\n",
       "    }\n",
       "\n",
       "    .dataframe thead th {\n",
       "        text-align: left;\n",
       "    }\n",
       "\n",
       "    .dataframe tbody tr th {\n",
       "        vertical-align: top;\n",
       "    }\n",
       "</style>\n",
       "<table border=\"1\" class=\"dataframe\">\n",
       "  <thead>\n",
       "    <tr style=\"text-align: right;\">\n",
       "      <th></th>\n",
       "      <th>Title</th>\n",
       "      <th>Reviews</th>\n",
       "      <th>Ratings</th>\n",
       "      <th>Genre</th>\n",
       "      <th>BookCategory</th>\n",
       "      <th>Cover</th>\n",
       "      <th>Month</th>\n",
       "      <th>Year</th>\n",
       "      <th>Author_1</th>\n",
       "      <th>Author_2</th>\n",
       "      <th>Author_3</th>\n",
       "      <th>Author_4</th>\n",
       "      <th>Author_5</th>\n",
       "      <th>Author_6</th>\n",
       "      <th>Author_7</th>\n",
       "    </tr>\n",
       "  </thead>\n",
       "  <tbody>\n",
       "    <tr>\n",
       "      <th>0</th>\n",
       "      <td>The Prisoner's Gold (The Hunters 3)</td>\n",
       "      <td>4.0 out of 5 stars</td>\n",
       "      <td>8 customer reviews</td>\n",
       "      <td>Action &amp; Adventure (Books)</td>\n",
       "      <td>Action &amp; Adventure</td>\n",
       "      <td>Paperback</td>\n",
       "      <td>Mar</td>\n",
       "      <td>2016</td>\n",
       "      <td>Chris Kuzneski</td>\n",
       "      <td>None</td>\n",
       "      <td>None</td>\n",
       "      <td>None</td>\n",
       "      <td>None</td>\n",
       "      <td>None</td>\n",
       "      <td>None</td>\n",
       "    </tr>\n",
       "    <tr>\n",
       "      <th>1</th>\n",
       "      <td>Guru Dutt: A Tragedy in Three Acts</td>\n",
       "      <td>3.9 out of 5 stars</td>\n",
       "      <td>14 customer reviews</td>\n",
       "      <td>Cinema &amp; Broadcast (Books)</td>\n",
       "      <td>Biographies, Diaries &amp; True Accounts</td>\n",
       "      <td>Paperback</td>\n",
       "      <td>Nov</td>\n",
       "      <td>2012</td>\n",
       "      <td>Arun Khopkar</td>\n",
       "      <td>None</td>\n",
       "      <td>None</td>\n",
       "      <td>None</td>\n",
       "      <td>None</td>\n",
       "      <td>None</td>\n",
       "      <td>None</td>\n",
       "    </tr>\n",
       "    <tr>\n",
       "      <th>2</th>\n",
       "      <td>Leviathan (Penguin Classics)</td>\n",
       "      <td>4.8 out of 5 stars</td>\n",
       "      <td>6 customer reviews</td>\n",
       "      <td>International Relations</td>\n",
       "      <td>Humour</td>\n",
       "      <td>Paperback</td>\n",
       "      <td>Feb</td>\n",
       "      <td>1982</td>\n",
       "      <td>Thomas Hobbes</td>\n",
       "      <td>None</td>\n",
       "      <td>None</td>\n",
       "      <td>None</td>\n",
       "      <td>None</td>\n",
       "      <td>None</td>\n",
       "      <td>None</td>\n",
       "    </tr>\n",
       "    <tr>\n",
       "      <th>3</th>\n",
       "      <td>A Pocket Full of Rye (Miss Marple)</td>\n",
       "      <td>4.1 out of 5 stars</td>\n",
       "      <td>13 customer reviews</td>\n",
       "      <td>Contemporary Fiction (Books)</td>\n",
       "      <td>Crime, Thriller &amp; Mystery</td>\n",
       "      <td>Paperback</td>\n",
       "      <td>Oct</td>\n",
       "      <td>2017</td>\n",
       "      <td>Agatha Christie</td>\n",
       "      <td>None</td>\n",
       "      <td>None</td>\n",
       "      <td>None</td>\n",
       "      <td>None</td>\n",
       "      <td>None</td>\n",
       "      <td>None</td>\n",
       "    </tr>\n",
       "    <tr>\n",
       "      <th>4</th>\n",
       "      <td>LIFE 70 Years of Extraordinary Photography</td>\n",
       "      <td>5.0 out of 5 stars</td>\n",
       "      <td>1 customer review</td>\n",
       "      <td>Photography Textbooks</td>\n",
       "      <td>Arts, Film &amp; Photography</td>\n",
       "      <td>Hardcover</td>\n",
       "      <td>Oct</td>\n",
       "      <td>2006</td>\n",
       "      <td>Editors of Life</td>\n",
       "      <td>None</td>\n",
       "      <td>None</td>\n",
       "      <td>None</td>\n",
       "      <td>None</td>\n",
       "      <td>None</td>\n",
       "      <td>None</td>\n",
       "    </tr>\n",
       "  </tbody>\n",
       "</table>\n",
       "</div>"
      ],
      "text/plain": [
       "                                        Title             Reviews  \\\n",
       "0         The Prisoner's Gold (The Hunters 3)  4.0 out of 5 stars   \n",
       "1          Guru Dutt: A Tragedy in Three Acts  3.9 out of 5 stars   \n",
       "2                Leviathan (Penguin Classics)  4.8 out of 5 stars   \n",
       "3          A Pocket Full of Rye (Miss Marple)  4.1 out of 5 stars   \n",
       "4  LIFE 70 Years of Extraordinary Photography  5.0 out of 5 stars   \n",
       "\n",
       "               Ratings                         Genre  \\\n",
       "0   8 customer reviews    Action & Adventure (Books)   \n",
       "1  14 customer reviews    Cinema & Broadcast (Books)   \n",
       "2   6 customer reviews       International Relations   \n",
       "3  13 customer reviews  Contemporary Fiction (Books)   \n",
       "4    1 customer review         Photography Textbooks   \n",
       "\n",
       "                           BookCategory      Cover Month  Year  \\\n",
       "0                    Action & Adventure  Paperback   Mar  2016   \n",
       "1  Biographies, Diaries & True Accounts  Paperback   Nov  2012   \n",
       "2                                Humour  Paperback   Feb  1982   \n",
       "3             Crime, Thriller & Mystery  Paperback   Oct  2017   \n",
       "4              Arts, Film & Photography  Hardcover   Oct  2006   \n",
       "\n",
       "          Author_1 Author_2 Author_3 Author_4 Author_5 Author_6 Author_7  \n",
       "0   Chris Kuzneski     None     None     None     None     None     None  \n",
       "1     Arun Khopkar     None     None     None     None     None     None  \n",
       "2    Thomas Hobbes     None     None     None     None     None     None  \n",
       "3  Agatha Christie     None     None     None     None     None     None  \n",
       "4  Editors of Life     None     None     None     None     None     None  "
      ]
     },
     "execution_count": 102,
     "metadata": {},
     "output_type": "execute_result"
    }
   ],
   "source": [
    "train_1 = train_1.drop(['Author','Edition'],axis=1)\n",
    "train_1.head()"
   ]
  },
  {
   "cell_type": "code",
   "execution_count": 105,
   "metadata": {},
   "outputs": [
    {
     "data": {
      "text/plain": [
       "array(['Action & Adventure', 'Biographies, Diaries & True Accounts',\n",
       "       'Humour', 'Crime, Thriller & Mystery', 'Arts, Film & Photography',\n",
       "       'Sports', 'Language, Linguistics & Writing',\n",
       "       'Computing, Internet & Digital Media', 'Romance', 'Comics & Mangas',\n",
       "       'Politics'], dtype=object)"
      ]
     },
     "execution_count": 105,
     "metadata": {},
     "output_type": "execute_result"
    }
   ],
   "source": [
    "train_1['BookCategory'].unique()"
   ]
  },
  {
   "cell_type": "code",
   "execution_count": 107,
   "metadata": {},
   "outputs": [
    {
     "data": {
      "text/plain": [
       "363"
      ]
     },
     "execution_count": 107,
     "metadata": {},
     "output_type": "execute_result"
    }
   ],
   "source": [
    "train_1['Genre'].nunique()"
   ]
  },
  {
   "cell_type": "code",
   "execution_count": 15,
   "metadata": {},
   "outputs": [
    {
     "name": "stdout",
     "output_type": "stream",
     "text": [
      "7\n"
     ]
    }
   ],
   "source": []
  },
  {
   "cell_type": "code",
   "execution_count": null,
   "metadata": {
    "collapsed": true
   },
   "outputs": [],
   "source": []
  }
 ],
 "metadata": {
  "kernelspec": {
   "display_name": "Python 3",
   "language": "python",
   "name": "python3"
  },
  "language_info": {
   "codemirror_mode": {
    "name": "ipython",
    "version": 3
   },
   "file_extension": ".py",
   "mimetype": "text/x-python",
   "name": "python",
   "nbconvert_exporter": "python",
   "pygments_lexer": "ipython3",
   "version": "3.6.3"
  }
 },
 "nbformat": 4,
 "nbformat_minor": 2
}
