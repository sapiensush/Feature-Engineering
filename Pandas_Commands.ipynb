{
 "cells": [
  {
   "cell_type": "markdown",
   "metadata": {},
   "source": [
    "# &#9657; Create Test Objects"
   ]
  },
  {
   "cell_type": "markdown",
   "metadata": {},
   "source": [
    "#### 5 columns and 20 rows of random floats\n",
    "```python\n",
    "pd.DataFrame(np.random.rand(20,5)) \n",
    "```\n",
    "#### Create a series from an iterable my_list\n",
    "```python\n",
    "pd.Series(my_list)\n",
    "```\n",
    "#### Add a date index\n",
    "```python\n",
    "df.index = pd.date_range('1900/1/30', periods=df.shape[0])\t\n",
    "```"
   ]
  },
  {
   "cell_type": "markdown",
   "metadata": {},
   "source": [
    "# &#9657; Viewing/Inspecting Data"
   ]
  },
  {
   "cell_type": "markdown",
   "metadata": {},
   "source": [
    "#### First n rows of the DataFrame\n",
    "```python\n",
    "df.head(n)\t\n",
    "```\n",
    "#### Last n rows of the DataFrame\n",
    "```python\n",
    "df.tail(n)\t\n",
    "```\n",
    "#### Number of rows and columns\n",
    "```python\n",
    "df.shape\t\n",
    "```\n",
    "#### Index, Datatype and Memory information\n",
    "```python\n",
    "df.info()\t\n",
    "```\n",
    "#### Summary statistics for numerical columns\n",
    "```python\n",
    "df.describe()\t\n",
    "```\n",
    "#### View unique values and counts\n",
    "```python\n",
    "s.value_counts(dropna=False)\t\n",
    "```\n",
    "#### Unique values and counts for all columns\n",
    "```python\n",
    "df.apply(pd.Series.value_counts)\t\n",
    "```"
   ]
  },
  {
   "cell_type": "markdown",
   "metadata": {},
   "source": [
    "# &#9657; Selection"
   ]
  },
  {
   "cell_type": "markdown",
   "metadata": {},
   "source": [
    "#### Returns column with label col as Series\n",
    "```python\n",
    "df[col]\t\n",
    "```\n",
    "#### Returns columns as a new DataFrame\n",
    "```python\n",
    "df[[col1, col2]]\t\n",
    "```\n",
    "#### Selection by position\n",
    "```python\n",
    "s.iloc[0]\t\n",
    "```\n",
    "#### Selection by index\n",
    "```python\n",
    "s.loc['index_one']\t\n",
    "```\n",
    "#### First row\n",
    "```python\n",
    "df.iloc[0,:]\t\n",
    "```\n",
    "#### First element of first column\n",
    "```python\n",
    "df.iloc[0,0]\t\n",
    "```"
   ]
  },
  {
   "cell_type": "markdown",
   "metadata": {},
   "source": [
    "# &#9657; Data Cleaning"
   ]
  },
  {
   "cell_type": "markdown",
   "metadata": {},
   "source": [
    "#### Rename columns\n",
    "```python\n",
    "df.columns = ['a','b','c']\t\n",
    "```\n",
    "#### Checks for null Values, Returns Boolean Arrray\n",
    "```python\n",
    "pd.isnull()\t\n",
    "```\n",
    "#### Opposite of pd.isnull()\n",
    "```python\n",
    "pd.notnull()\t\n",
    "```\n",
    "#### Drop all rows that contain null values\n",
    "```python\n",
    "df.dropna()\n",
    "```\n",
    "#### Drop all columns that contain null values\n",
    "```python\n",
    "df.dropna(axis=1)\t\n",
    "```\n",
    "#### Drop all rows have have less than n non null values\n",
    "```python\n",
    "df.dropna(axis=1,thresh=n)\t\n",
    "```\n",
    "#### Replace all null values with x\n",
    "```python\n",
    "df.fillna(x)\t\n",
    "```\n",
    "#### Replace all null values with the mean\n",
    "```python\n",
    "s.fillna(s.mean())\t\n",
    "```\n",
    "#### Convert the datatype of the series to float\n",
    "```python\n",
    "s.astype(float)\t\n",
    "```\n",
    "#### Replace all values equal to 1 with 'one'\n",
    "```python\n",
    "s.replace(1,'one')\t\n",
    "```\n",
    "#### Replace all 2 with 'two' and 3 with 'three'\n",
    "```python\n",
    "s.replace([2,3],['two', 'three'])\t\n",
    "```\n",
    "#### Mass renaming of columns\n",
    "```python\n",
    "df.rename(columns=lambda x: x + 1)\t\n",
    "```\n",
    "#### Selective renaming\n",
    "```python\n",
    "df.rename(columns={'old_name': 'new_ name'})\t\n",
    "```\n",
    "#### Change the index\n",
    "```python\n",
    "df.set_index('column_one')\t\n",
    "```\n",
    "#### Mass renaming of index\n",
    "```python\n",
    "df.rename(index=lambda x: x + 1)\t\n",
    "```"
   ]
  },
  {
   "cell_type": "markdown",
   "metadata": {},
   "source": [
    "# &#9657; Filter, Sort, and Groupby"
   ]
  },
  {
   "cell_type": "markdown",
   "metadata": {
    "collapsed": true
   },
   "source": [
    "#### Rows where the column col is greater than 0.6\n",
    "```python\n",
    "df[df[col] > 0.6]\t\n",
    "```\n",
    "#### Rows where 0.8 > col > 0.6\n",
    "```python\n",
    "df[(df[col] > 0.6) & (df[col] < 0.8)]\t\n",
    "```\n",
    "#### Sort values by col1 in ascending order\n",
    "```python\n",
    "df.sort_values(col1)\t\n",
    "```\n",
    "#### Sort values by col2 in descending order.5\n",
    "```python\n",
    "df.sort_values(col2,ascending=False)\t\n",
    "```\n",
    "#### Sort values by col1 in ascending order then col2 in descending order\n",
    "```python\n",
    "df.sort_values([col1,col2],ascending=[True,False])\t\n",
    "```\n",
    "#### Returns a groupby object for values from one column\n",
    "```python\n",
    "df.groupby(col)\t\n",
    "```\n",
    "#### Returns groupby object for values from multiple columns\n",
    "```python\n",
    "df.groupby([col1,col2])\t\n",
    "```\n",
    "#### Returns the mean of the values in col2, grouped by the values in col1\n",
    "```python\n",
    "df.groupby(col1)[col2]\t\n",
    "```\n",
    "#### Create a pivot table that groups by col1 and calculates the mean of col2 and col3\n",
    "```python\n",
    "df.pivot_table(index=col1,values=[col2,col3],aggfunc=mean)\t\n",
    "```\n",
    "#### Find the average across all columns for every unique col1 group\n",
    "```python\n",
    "df.groupby(col1).agg(np.mean)\t\n",
    "```\n",
    "#### Apply the function np.mean() across each column\n",
    "```python\n",
    "df.apply(np.mean)\t\n",
    "```\n",
    "#### Apply the function np.max() across each row\n",
    "```python\n",
    "nf.apply(np.max,axis=1)\t\n",
    "```"
   ]
  },
  {
   "cell_type": "markdown",
   "metadata": {},
   "source": [
    "# &#9657; Join/Combine"
   ]
  },
  {
   "cell_type": "markdown",
   "metadata": {},
   "source": [
    "#### Add the rows in df1 to the end of df2 (columns should be identical)\n",
    "```python\n",
    "df1.append(df2)\t\n",
    "```\n",
    "#### Add the columns in df1 to the end of df2 (rows should be identical)\n",
    "```python\n",
    "pd.concat([df1, df2],axis=1)\t\n",
    "```\n",
    "#### SQL-style join the columns in df1 with the columns on df2 where the rows for col have identical values. The 'how' can be 'left', 'right', 'outer' or 'inner'\n",
    "```python\n",
    "df1.join(df2,on=col1, how='inner')\t\n",
    "```"
   ]
  },
  {
   "cell_type": "markdown",
   "metadata": {},
   "source": [
    "# &#9657; Statistics \n"
   ]
  },
  {
   "cell_type": "markdown",
   "metadata": {},
   "source": [
    "#### Summary statistics for numerical columns\n",
    "```python\n",
    "df.describe()\t\n",
    "```\n",
    "#### Returns the mean of all columns\n",
    "```python\n",
    "df.mean()\t\n",
    "```\n",
    "#### Returns the correlation between columns in a DataFrame\n",
    "```python\n",
    "df.corr()\t\n",
    "```\n",
    "#### Returns the number of non-null values in each DataFrame column\n",
    "```python\n",
    "df.count()\t\n",
    "```\n",
    "#### Returns the highest value in each column\n",
    "```python\n",
    "df.max()\t\n",
    "```\n",
    "#### Returns the lowest value in each column\n",
    "```python\n",
    "df.min()\t\n",
    "```\n",
    "#### Returns the median of each column\n",
    "```python\n",
    "df.median()\t\n",
    "```\n",
    "#### Returns the standard deviation of each column\n",
    "```python\n",
    "df.std()\t\n",
    "```"
   ]
  },
  {
   "cell_type": "markdown",
   "metadata": {},
   "source": [
    "***"
   ]
  },
  {
   "cell_type": "markdown",
   "metadata": {},
   "source": []
  },
  {
   "cell_type": "code",
   "execution_count": null,
   "metadata": {
    "collapsed": true
   },
   "outputs": [],
   "source": []
  }
 ],
 "metadata": {
  "kernelspec": {
   "display_name": "Python 3",
   "language": "python",
   "name": "python3"
  },
  "language_info": {
   "codemirror_mode": {
    "name": "ipython",
    "version": 3
   },
   "file_extension": ".py",
   "mimetype": "text/x-python",
   "name": "python",
   "nbconvert_exporter": "python",
   "pygments_lexer": "ipython3",
   "version": "3.6.3"
  }
 },
 "nbformat": 4,
 "nbformat_minor": 2
}
